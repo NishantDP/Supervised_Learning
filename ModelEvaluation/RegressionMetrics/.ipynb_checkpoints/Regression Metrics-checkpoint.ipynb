{
 "cells": [
  {
   "cell_type": "markdown",
   "metadata": {},
   "source": [
    "### Boston Housing Data\n",
    "\n",
    "In order to gain a better understanding of the metrics used in regression settings, we will be looking at the Boston Housing dataset.  \n",
    "\n",
    "First use the cell below to read in the dataset and set up the training and testing data that will be used for the rest of this problem."
   ]
  },
  {
   "cell_type": "code",
   "execution_count": 1,
   "metadata": {},
   "outputs": [
    {
     "name": "stdout",
     "output_type": "stream",
     "text": [
      "[[9.17800e-02 0.00000e+00 4.05000e+00 ... 1.66000e+01 3.95500e+02\n",
      "  9.04000e+00]\n",
      " [5.64400e-02 4.00000e+01 6.41000e+00 ... 1.76000e+01 3.96900e+02\n",
      "  3.53000e+00]\n",
      " [1.05740e-01 0.00000e+00 2.77400e+01 ... 2.01000e+01 3.90110e+02\n",
      "  1.80700e+01]\n",
      " ...\n",
      " [7.61620e-01 2.00000e+01 3.97000e+00 ... 1.30000e+01 3.92400e+02\n",
      "  1.04500e+01]\n",
      " [1.00245e+00 0.00000e+00 8.14000e+00 ... 2.10000e+01 3.80230e+02\n",
      "  1.19800e+01]\n",
      " [5.20140e-01 2.00000e+01 3.97000e+00 ... 1.30000e+01 3.86860e+02\n",
      "  5.91000e+00]]\n"
     ]
    }
   ],
   "source": [
    "from sklearn.datasets import load_boston\n",
    "from sklearn.model_selection import train_test_split\n",
    "import numpy as np\n",
    "\n",
    "boston = load_boston()\n",
    "y = boston.target\n",
    "X = boston.data\n",
    "\n",
    "X_train, X_test, y_train, y_test = train_test_split(\n",
    "            X, y, test_size=0.33, random_state=42)\n",
    "print(X_test)"
   ]
  },
  {
   "cell_type": "markdown",
   "metadata": {},
   "source": [
    "> **Step 1:** Before we get too far, let's do a quick check of the models that you can use in this situation given that you are working on a regression problem.\n",
    "- linear regression - only regression problems.\n",
    "- logistic regression - only classification problems.\n",
    "- decision trees, random forest, adaptive boosting - both regression and classification."
   ]
  },
  {
   "cell_type": "markdown",
   "metadata": {},
   "source": [
    "> **Step 2:** Now for each of the models you found in the previous question that can be used for regression problems, import them using sklearn."
   ]
  },
  {
   "cell_type": "code",
   "execution_count": 2,
   "metadata": {},
   "outputs": [],
   "source": [
    "# Import models from sklearn - notice you will want to use \n",
    "# the regressor version (not classifier) - googling to find \n",
    "# each of these is what we all do!\n",
    "from sklearn.linear_model import LinearRegression\n",
    "from sklearn import tree\n",
    "from sklearn.ensemble import RandomForestRegressor\n",
    "from sklearn.ensemble import AdaBoostRegressor"
   ]
  },
  {
   "cell_type": "markdown",
   "metadata": {},
   "source": [
    "> **Step 3:** Now that you have imported the 4 models that can be used for regression problems, instantate each below."
   ]
  },
  {
   "cell_type": "code",
   "execution_count": 3,
   "metadata": {},
   "outputs": [],
   "source": [
    "# Instantiate each of the models you imported\n",
    "# For now use the defaults for all the hyperparameters\n",
    "linearReg = LinearRegression()\n",
    "treeReg = tree.DecisionTreeRegressor()\n",
    "RFReg = RandomForestRegressor()\n",
    "AdaBReg = AdaBoostRegressor()"
   ]
  },
  {
   "cell_type": "markdown",
   "metadata": {},
   "source": [
    "> **Step 4:** Fit each of your instantiated models on the training data."
   ]
  },
  {
   "cell_type": "code",
   "execution_count": 4,
   "metadata": {},
   "outputs": [
    {
     "data": {
      "text/plain": [
       "AdaBoostRegressor(base_estimator=None, learning_rate=1.0, loss='linear',\n",
       "                  n_estimators=50, random_state=None)"
      ]
     },
     "execution_count": 4,
     "metadata": {},
     "output_type": "execute_result"
    }
   ],
   "source": [
    "# Fit each of your models using the training data\n",
    "linearReg.fit(X_train,y_train)\n",
    "treeReg.fit(X_train,y_train)\n",
    "RFReg.fit(X_train,y_train)\n",
    "AdaBReg.fit(X_train,y_train)"
   ]
  },
  {
   "cell_type": "markdown",
   "metadata": {},
   "source": [
    "> **Step 5:** Use each of your models to predict on the test data."
   ]
  },
  {
   "cell_type": "code",
   "execution_count": 5,
   "metadata": {},
   "outputs": [],
   "source": [
    "# Predict on the test values for each model\n",
    "linPred = linearReg.predict(X_test)\n",
    "treePred = treeReg.predict(X_test)\n",
    "RFPred = RFReg.predict(X_test)\n",
    "AdaBPred = AdaBReg.predict(X_test)"
   ]
  },
  {
   "cell_type": "markdown",
   "metadata": {},
   "source": [
    "> **Step 6:** Metrics used for classification and regression:\n",
    "- Regression: mean_squared_error, mean_absolute_area, r2_score\n",
    "- Classification: precision, recall, accuracy, area under the curve"
   ]
  },
  {
   "cell_type": "markdown",
   "metadata": {},
   "source": [
    "> **Step 6:** Now that you have identified the metrics that can be used in for regression problems, use sklearn to import them."
   ]
  },
  {
   "cell_type": "code",
   "execution_count": 6,
   "metadata": {},
   "outputs": [],
   "source": [
    "# Import the metrics from sklearn\n",
    "from sklearn.metrics import mean_absolute_error, mean_squared_error, r2_score"
   ]
  },
  {
   "cell_type": "markdown",
   "metadata": {},
   "source": [
    "> **Step 7:** r2 score"
   ]
  },
  {
   "cell_type": "code",
   "execution_count": 7,
   "metadata": {},
   "outputs": [
    {
     "name": "stdout",
     "output_type": "stream",
     "text": [
      "r2 score for linear regression model: 0.7261570836552487\n",
      "r2 score for tree regression model: 0.754078687806155\n",
      "r2 score for RF regression model: 0.8653314778605486\n",
      "r2 score for Adaboost regression model: 0.8032720092889251\n"
     ]
    }
   ],
   "source": [
    "print('r2 score for linear regression model: {}'.format(r2_score(y_test, linPred)))\n",
    "print('r2 score for tree regression model: {}'.format(r2_score(y_test, treePred)))\n",
    "print('r2 score for RF regression model: {}'.format(r2_score(y_test, RFPred)))\n",
    "print('r2 score for Adaboost regression model: {}'.format(r2_score(y_test, AdaBPred)))"
   ]
  },
  {
   "cell_type": "markdown",
   "metadata": {},
   "source": [
    "> **Step 8:** mean_squared_error. "
   ]
  },
  {
   "cell_type": "code",
   "execution_count": 8,
   "metadata": {},
   "outputs": [
    {
     "name": "stdout",
     "output_type": "stream",
     "text": [
      "mean_squared_error score for linear regression model: 20.72402343733967\n",
      "mean_squared_error score for tree regression model: 18.610958083832337\n",
      "mean_squared_error score for RF regression model: 10.191512880239518\n",
      "mean_squared_error score for Adaboost regression model: 14.888080892128585\n"
     ]
    }
   ],
   "source": [
    "print('mean_squared_error score for linear regression model: {}'.format(mean_squared_error(y_test, linPred)))\n",
    "print('mean_squared_error score for tree regression model: {}'.format(mean_squared_error(y_test, treePred)))\n",
    "print('mean_squared_error score for RF regression model: {}'.format(mean_squared_error(y_test, RFPred)))\n",
    "print('mean_squared_error score for Adaboost regression model: {}'.format(mean_squared_error(y_test, AdaBPred)))"
   ]
  },
  {
   "cell_type": "markdown",
   "metadata": {},
   "source": [
    "> **Step 9:** mean absolute error."
   ]
  },
  {
   "cell_type": "code",
   "execution_count": 9,
   "metadata": {},
   "outputs": [
    {
     "name": "stdout",
     "output_type": "stream",
     "text": [
      "mean absolute error score for linear regression model: 3.1482557548168115\n",
      "mean absolute error score for tree regression model: 2.913173652694611\n",
      "mean absolute error score for RF regression model: 2.135131736526945\n",
      "mean absolute error score for Adaboost regression model: 2.7452007178596594\n"
     ]
    }
   ],
   "source": [
    "print('mean absolute error score for linear regression model: {}'.format(mean_absolute_error(y_test, linPred)))\n",
    "print('mean absolute error score for tree regression model: {}'.format(mean_absolute_error(y_test, treePred)))\n",
    "print('mean absolute error score for RF regression model: {}'.format(mean_absolute_error(y_test, RFPred)))\n",
    "print('mean absolute error score for Adaboost regression model: {}'.format(mean_absolute_error(y_test, AdaBPred)))"
   ]
  },
  {
   "cell_type": "markdown",
   "metadata": {},
   "source": [
    "> *Conclusion:** We can see that the Random forest model performed best in all the three metrics."
   ]
  }
 ],
 "metadata": {
  "kernelspec": {
   "display_name": "Python 3",
   "language": "python",
   "name": "python3"
  },
  "language_info": {
   "codemirror_mode": {
    "name": "ipython",
    "version": 3
   },
   "file_extension": ".py",
   "mimetype": "text/x-python",
   "name": "python",
   "nbconvert_exporter": "python",
   "pygments_lexer": "ipython3",
   "version": "3.7.6"
  }
 },
 "nbformat": 4,
 "nbformat_minor": 2
}
